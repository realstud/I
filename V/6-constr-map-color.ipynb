{
 "cells": [
  {
   "cell_type": "code",
   "execution_count": 2,
   "id": "59d9494a",
   "metadata": {},
   "outputs": [
    {
     "name": "stdout",
     "output_type": "stream",
     "text": [
      "Map Coloring CSP Solver\n",
      "==============================\n",
      "\n",
      "Enter adjacency list (e.g., if A is adjacent to B and C, type B,C):\n"
     ]
    },
    {
     "ename": "KeyboardInterrupt",
     "evalue": "Interrupted by user",
     "output_type": "error",
     "traceback": [
      "\u001b[1;31m---------------------------------------------------------------------------\u001b[0m",
      "\u001b[1;31mKeyboardInterrupt\u001b[0m                         Traceback (most recent call last)",
      "Cell \u001b[1;32mIn[2], line 79\u001b[0m\n\u001b[0;32m     76\u001b[0m         \u001b[38;5;28mprint\u001b[39m(\u001b[38;5;124m\"\u001b[39m\u001b[38;5;124mNo valid coloring found.\u001b[39m\u001b[38;5;124m\"\u001b[39m) \n\u001b[0;32m     78\u001b[0m \u001b[38;5;28;01mif\u001b[39;00m \u001b[38;5;18m__name__\u001b[39m \u001b[38;5;241m==\u001b[39m \u001b[38;5;124m\"\u001b[39m\u001b[38;5;124m__main__\u001b[39m\u001b[38;5;124m\"\u001b[39m: \n\u001b[1;32m---> 79\u001b[0m     \u001b[43mmain\u001b[49m\u001b[43m(\u001b[49m\u001b[43m)\u001b[49m \n",
      "Cell \u001b[1;32mIn[2], line 64\u001b[0m, in \u001b[0;36mmain\u001b[1;34m()\u001b[0m\n\u001b[0;32m     62\u001b[0m \u001b[38;5;28mprint\u001b[39m(\u001b[38;5;124m\"\u001b[39m\u001b[38;5;130;01m\\n\u001b[39;00m\u001b[38;5;124mEnter adjacency list (e.g., if A is adjacent to B and C, type B,C):\u001b[39m\u001b[38;5;124m\"\u001b[39m) \n\u001b[0;32m     63\u001b[0m \u001b[38;5;28;01mfor\u001b[39;00m region \u001b[38;5;129;01min\u001b[39;00m regions: \n\u001b[1;32m---> 64\u001b[0m     neighbors \u001b[38;5;241m=\u001b[39m \u001b[38;5;28;43minput\u001b[39;49m\u001b[43m(\u001b[49m\u001b[38;5;124;43mf\u001b[39;49m\u001b[38;5;124;43m\"\u001b[39;49m\u001b[38;5;124;43mNeighbors of \u001b[39;49m\u001b[38;5;132;43;01m{\u001b[39;49;00m\u001b[43mregion\u001b[49m\u001b[38;5;241;43m.\u001b[39;49m\u001b[43mstrip\u001b[49m\u001b[43m(\u001b[49m\u001b[43m)\u001b[49m\u001b[38;5;132;43;01m}\u001b[39;49;00m\u001b[38;5;124;43m: \u001b[39;49m\u001b[38;5;124;43m\"\u001b[39;49m\u001b[43m)\u001b[49m\u001b[38;5;241m.\u001b[39mstrip()\u001b[38;5;241m.\u001b[39msplit(\u001b[38;5;124m'\u001b[39m\u001b[38;5;124m,\u001b[39m\u001b[38;5;124m'\u001b[39m) \n\u001b[0;32m     65\u001b[0m     adjacency[region\u001b[38;5;241m.\u001b[39mstrip()] \u001b[38;5;241m=\u001b[39m [n\u001b[38;5;241m.\u001b[39mstrip() \u001b[38;5;28;01mfor\u001b[39;00m n \u001b[38;5;129;01min\u001b[39;00m neighbors \u001b[38;5;28;01mif\u001b[39;00m n\u001b[38;5;241m.\u001b[39mstrip()] \n\u001b[0;32m     67\u001b[0m csp \u001b[38;5;241m=\u001b[39m MapColoringCSP(regions, colors, adjacency) \n",
      "File \u001b[1;32m~\\AppData\\Roaming\\Python\\Python312\\site-packages\\ipykernel\\kernelbase.py:1282\u001b[0m, in \u001b[0;36mKernel.raw_input\u001b[1;34m(self, prompt)\u001b[0m\n\u001b[0;32m   1280\u001b[0m     msg \u001b[38;5;241m=\u001b[39m \u001b[38;5;124m\"\u001b[39m\u001b[38;5;124mraw_input was called, but this frontend does not support input requests.\u001b[39m\u001b[38;5;124m\"\u001b[39m\n\u001b[0;32m   1281\u001b[0m     \u001b[38;5;28;01mraise\u001b[39;00m StdinNotImplementedError(msg)\n\u001b[1;32m-> 1282\u001b[0m \u001b[38;5;28;01mreturn\u001b[39;00m \u001b[38;5;28;43mself\u001b[39;49m\u001b[38;5;241;43m.\u001b[39;49m\u001b[43m_input_request\u001b[49m\u001b[43m(\u001b[49m\n\u001b[0;32m   1283\u001b[0m \u001b[43m    \u001b[49m\u001b[38;5;28;43mstr\u001b[39;49m\u001b[43m(\u001b[49m\u001b[43mprompt\u001b[49m\u001b[43m)\u001b[49m\u001b[43m,\u001b[49m\n\u001b[0;32m   1284\u001b[0m \u001b[43m    \u001b[49m\u001b[38;5;28;43mself\u001b[39;49m\u001b[38;5;241;43m.\u001b[39;49m\u001b[43m_parent_ident\u001b[49m\u001b[43m[\u001b[49m\u001b[38;5;124;43m\"\u001b[39;49m\u001b[38;5;124;43mshell\u001b[39;49m\u001b[38;5;124;43m\"\u001b[39;49m\u001b[43m]\u001b[49m\u001b[43m,\u001b[49m\n\u001b[0;32m   1285\u001b[0m \u001b[43m    \u001b[49m\u001b[38;5;28;43mself\u001b[39;49m\u001b[38;5;241;43m.\u001b[39;49m\u001b[43mget_parent\u001b[49m\u001b[43m(\u001b[49m\u001b[38;5;124;43m\"\u001b[39;49m\u001b[38;5;124;43mshell\u001b[39;49m\u001b[38;5;124;43m\"\u001b[39;49m\u001b[43m)\u001b[49m\u001b[43m,\u001b[49m\n\u001b[0;32m   1286\u001b[0m \u001b[43m    \u001b[49m\u001b[43mpassword\u001b[49m\u001b[38;5;241;43m=\u001b[39;49m\u001b[38;5;28;43;01mFalse\u001b[39;49;00m\u001b[43m,\u001b[49m\n\u001b[0;32m   1287\u001b[0m \u001b[43m\u001b[49m\u001b[43m)\u001b[49m\n",
      "File \u001b[1;32m~\\AppData\\Roaming\\Python\\Python312\\site-packages\\ipykernel\\kernelbase.py:1325\u001b[0m, in \u001b[0;36mKernel._input_request\u001b[1;34m(self, prompt, ident, parent, password)\u001b[0m\n\u001b[0;32m   1322\u001b[0m \u001b[38;5;28;01mexcept\u001b[39;00m \u001b[38;5;167;01mKeyboardInterrupt\u001b[39;00m:\n\u001b[0;32m   1323\u001b[0m     \u001b[38;5;66;03m# re-raise KeyboardInterrupt, to truncate traceback\u001b[39;00m\n\u001b[0;32m   1324\u001b[0m     msg \u001b[38;5;241m=\u001b[39m \u001b[38;5;124m\"\u001b[39m\u001b[38;5;124mInterrupted by user\u001b[39m\u001b[38;5;124m\"\u001b[39m\n\u001b[1;32m-> 1325\u001b[0m     \u001b[38;5;28;01mraise\u001b[39;00m \u001b[38;5;167;01mKeyboardInterrupt\u001b[39;00m(msg) \u001b[38;5;28;01mfrom\u001b[39;00m \u001b[38;5;28;01mNone\u001b[39;00m\n\u001b[0;32m   1326\u001b[0m \u001b[38;5;28;01mexcept\u001b[39;00m \u001b[38;5;167;01mException\u001b[39;00m:\n\u001b[0;32m   1327\u001b[0m     \u001b[38;5;28mself\u001b[39m\u001b[38;5;241m.\u001b[39mlog\u001b[38;5;241m.\u001b[39mwarning(\u001b[38;5;124m\"\u001b[39m\u001b[38;5;124mInvalid Message:\u001b[39m\u001b[38;5;124m\"\u001b[39m, exc_info\u001b[38;5;241m=\u001b[39m\u001b[38;5;28;01mTrue\u001b[39;00m)\n",
      "\u001b[1;31mKeyboardInterrupt\u001b[0m: Interrupted by user"
     ]
    }
   ],
   "source": [
    "import networkx as nx \n",
    "import matplotlib.pyplot as plt \n",
    " \n",
    "class MapColoringCSP: \n",
    "    def __init__(self, regions, colors, adjacency): \n",
    "        self.regions = regions                      # List of regions (nodes in the graph) \n",
    "        self.colors = colors                        # List of available colors \n",
    "        self.adjacency = adjacency                  # Adjacency list defining neighboring regions \n",
    "        self.assignment = {}                        # Dictionary to store region-color assignments \n",
    " \n",
    "    def is_valid(self, region, color): \n",
    "        \"\"\"Check if assigning 'color' to 'region' is valid.\"\"\" \n",
    "        for neighbor in self.adjacency.get(region, []): \n",
    "            if neighbor in self.assignment and self.assignment[neighbor] == color: \n",
    "                return False  # Neighbor has the same color \n",
    "        return True \n",
    " \n",
    "    def backtrack(self, index=0): \n",
    "        \"\"\"Recursive backtracking to assign colors.\"\"\" \n",
    "        if index == len(self.regions): \n",
    "            return True  # All regions colored successfully \n",
    " \n",
    "        region = self.regions[index] \n",
    "        for color in self.colors: \n",
    "            if self.is_valid(region, color): \n",
    "                self.assignment[region] = color \n",
    "                if self.backtrack(index + 1): \n",
    "                    return True \n",
    "                del self.assignment[region]  # Backtrack \n",
    " \n",
    "        return False  # No valid color found \n",
    " \n",
    "    def solve(self): \n",
    "        \"\"\"Solves the CSP and returns the assignment or None.\"\"\" \n",
    "        if self.backtrack(): \n",
    "            return self.assignment \n",
    "        return None \n",
    " \n",
    "    def draw_graph(self): \n",
    "        \"\"\"Visualizes the graph with colored nodes.\"\"\" \n",
    "        G = nx.Graph() \n",
    "        for region in self.regions: \n",
    "            G.add_node(region) \n",
    "        for region, neighbors in self.adjacency.items(): \n",
    "            for neighbor in neighbors: \n",
    "                G.add_edge(region, neighbor) \n",
    " \n",
    "        pos = nx.spring_layout(G) \n",
    "        node_colors = [self.assignment.get(node, 'gray') for node in G.nodes()] \n",
    "        nx.draw(G, pos, with_labels=True, node_color=node_colors, edge_color='black', \n",
    "                node_size=2000, font_size=12) \n",
    "        plt.show() \n",
    " \n",
    "def main(): \n",
    "    print(\"Map Coloring CSP Solver\") \n",
    "    print(\"=\" * 30) \n",
    " \n",
    "    regions = input(\"Enter regions (comma separated): \").strip().split(',') \n",
    "    colors = input(\"Enter available colors (comma separated): \").strip().split(',') \n",
    " \n",
    "    adjacency = {} \n",
    "    print(\"\\nEnter adjacency list (e.g., if A is adjacent to B and C, type B,C):\") \n",
    "    for region in regions: \n",
    "        neighbors = input(f\"Neighbors of {region.strip()}: \").strip().split(',') \n",
    "        adjacency[region.strip()] = [n.strip() for n in neighbors if n.strip()] \n",
    " \n",
    "    csp = MapColoringCSP(regions, colors, adjacency) \n",
    "    solution = csp.solve() \n",
    " \n",
    "    if solution: \n",
    "        print(\"\\nColoring Solution:\") \n",
    "        for region, color in solution.items(): \n",
    "            print(f\"{region}: {color}\") \n",
    "        csp.draw_graph() \n",
    "    else: \n",
    "        print(\"No valid coloring found.\") \n",
    " \n",
    "if __name__ == \"__main__\": \n",
    "    main() "
   ]
  }
 ],
 "metadata": {
  "kernelspec": {
   "display_name": "Python 3",
   "language": "python",
   "name": "python3"
  },
  "language_info": {
   "codemirror_mode": {
    "name": "ipython",
    "version": 3
   },
   "file_extension": ".py",
   "mimetype": "text/x-python",
   "name": "python",
   "nbconvert_exporter": "python",
   "pygments_lexer": "ipython3",
   "version": "3.12.7"
  }
 },
 "nbformat": 4,
 "nbformat_minor": 5
}
